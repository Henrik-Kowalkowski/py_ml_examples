{
 "cells": [
  {
   "cell_type": "markdown",
   "metadata": {},
   "source": [
    "# Basic Regression with sklearn"
   ]
  },
  {
   "cell_type": "markdown",
   "metadata": {},
   "source": [
    "## Setup"
   ]
  },
  {
   "cell_type": "code",
   "execution_count": 1,
   "metadata": {},
   "outputs": [],
   "source": [
    "# utils\n",
    "from IPython.display import display\n",
    "\n",
    "# data manipulation\n",
    "import numpy as np\n",
    "import pandas as pd\n",
    "\n",
    "# plotting\n",
    "import matplotlib.pyplot as plt\n",
    "import seaborn as sns\n",
    "\n",
    "# data\n",
    "from sklearn.datasets import make_regression\n",
    "\n",
    "# modeling\n",
    "from sklearn.model_selection import train_test_split, KFold, GridSearchCV\n",
    "from sklearn.decomposition import PCA\n",
    "from sklearn.ensemble import GradientBoostingRegressor\n",
    "from sklearn.linear_model import ElasticNet\n",
    "\n",
    "# performance\n",
    "from sklearn.metrics import mean_squared_error\n",
    "\n",
    "# set options\n",
    "pd.set_option(\"max_columns\", 60)"
   ]
  },
  {
   "cell_type": "code",
   "execution_count": 2,
   "metadata": {},
   "outputs": [],
   "source": [
    "X, y, coef = make_regression(n_samples=1000, n_features=30, n_informative=30, random_state=0, coef=True)"
   ]
  },
  {
   "cell_type": "code",
   "execution_count": 3,
   "metadata": {},
   "outputs": [
    {
     "data": {
      "text/html": [
       "<div>\n",
       "<style scoped>\n",
       "    .dataframe tbody tr th:only-of-type {\n",
       "        vertical-align: middle;\n",
       "    }\n",
       "\n",
       "    .dataframe tbody tr th {\n",
       "        vertical-align: top;\n",
       "    }\n",
       "\n",
       "    .dataframe thead th {\n",
       "        text-align: right;\n",
       "    }\n",
       "</style>\n",
       "<table border=\"1\" class=\"dataframe\">\n",
       "  <thead>\n",
       "    <tr style=\"text-align: right;\">\n",
       "      <th></th>\n",
       "      <th>0</th>\n",
       "      <th>1</th>\n",
       "      <th>2</th>\n",
       "      <th>3</th>\n",
       "      <th>4</th>\n",
       "      <th>5</th>\n",
       "      <th>6</th>\n",
       "      <th>7</th>\n",
       "      <th>8</th>\n",
       "      <th>9</th>\n",
       "      <th>10</th>\n",
       "      <th>11</th>\n",
       "      <th>12</th>\n",
       "      <th>13</th>\n",
       "      <th>14</th>\n",
       "      <th>15</th>\n",
       "      <th>16</th>\n",
       "      <th>17</th>\n",
       "      <th>18</th>\n",
       "      <th>19</th>\n",
       "      <th>20</th>\n",
       "      <th>21</th>\n",
       "      <th>22</th>\n",
       "      <th>23</th>\n",
       "      <th>24</th>\n",
       "      <th>25</th>\n",
       "      <th>26</th>\n",
       "      <th>27</th>\n",
       "      <th>28</th>\n",
       "      <th>29</th>\n",
       "    </tr>\n",
       "  </thead>\n",
       "  <tbody>\n",
       "    <tr>\n",
       "      <th>0</th>\n",
       "      <td>-1.264248</td>\n",
       "      <td>-0.244264</td>\n",
       "      <td>-0.278784</td>\n",
       "      <td>-0.767433</td>\n",
       "      <td>-0.671935</td>\n",
       "      <td>1.078734</td>\n",
       "      <td>0.112192</td>\n",
       "      <td>-0.826115</td>\n",
       "      <td>-1.228228</td>\n",
       "      <td>1.058188</td>\n",
       "      <td>1.024760</td>\n",
       "      <td>2.612479</td>\n",
       "      <td>-0.184346</td>\n",
       "      <td>-0.320240</td>\n",
       "      <td>0.424841</td>\n",
       "      <td>-2.103710</td>\n",
       "      <td>1.379503</td>\n",
       "      <td>-1.327718</td>\n",
       "      <td>-0.401036</td>\n",
       "      <td>0.710128</td>\n",
       "      <td>-0.075117</td>\n",
       "      <td>-0.141831</td>\n",
       "      <td>1.048305</td>\n",
       "      <td>0.570970</td>\n",
       "      <td>-1.631035</td>\n",
       "      <td>-0.131695</td>\n",
       "      <td>0.858342</td>\n",
       "      <td>0.634410</td>\n",
       "      <td>0.995936</td>\n",
       "      <td>0.405763</td>\n",
       "    </tr>\n",
       "    <tr>\n",
       "      <th>1</th>\n",
       "      <td>0.938585</td>\n",
       "      <td>-0.374126</td>\n",
       "      <td>0.152177</td>\n",
       "      <td>-1.019251</td>\n",
       "      <td>-1.058572</td>\n",
       "      <td>0.144106</td>\n",
       "      <td>1.239941</td>\n",
       "      <td>-0.509006</td>\n",
       "      <td>0.233458</td>\n",
       "      <td>1.925806</td>\n",
       "      <td>1.004419</td>\n",
       "      <td>-0.547356</td>\n",
       "      <td>-0.172459</td>\n",
       "      <td>-0.359117</td>\n",
       "      <td>0.410602</td>\n",
       "      <td>0.512562</td>\n",
       "      <td>-0.013451</td>\n",
       "      <td>0.792041</td>\n",
       "      <td>-0.635430</td>\n",
       "      <td>0.115665</td>\n",
       "      <td>0.633534</td>\n",
       "      <td>-0.550799</td>\n",
       "      <td>-0.608815</td>\n",
       "      <td>1.951761</td>\n",
       "      <td>-0.726366</td>\n",
       "      <td>0.480970</td>\n",
       "      <td>-0.226122</td>\n",
       "      <td>0.815472</td>\n",
       "      <td>0.852830</td>\n",
       "      <td>0.669562</td>\n",
       "    </tr>\n",
       "    <tr>\n",
       "      <th>2</th>\n",
       "      <td>0.313068</td>\n",
       "      <td>0.400157</td>\n",
       "      <td>1.764052</td>\n",
       "      <td>-0.854096</td>\n",
       "      <td>0.864436</td>\n",
       "      <td>1.532779</td>\n",
       "      <td>-0.205158</td>\n",
       "      <td>-0.742165</td>\n",
       "      <td>1.469359</td>\n",
       "      <td>0.333674</td>\n",
       "      <td>0.410599</td>\n",
       "      <td>-1.454366</td>\n",
       "      <td>1.454274</td>\n",
       "      <td>0.653619</td>\n",
       "      <td>1.867558</td>\n",
       "      <td>-2.552990</td>\n",
       "      <td>0.978738</td>\n",
       "      <td>-0.187184</td>\n",
       "      <td>0.950088</td>\n",
       "      <td>2.269755</td>\n",
       "      <td>0.761038</td>\n",
       "      <td>0.045759</td>\n",
       "      <td>0.121675</td>\n",
       "      <td>1.494079</td>\n",
       "      <td>0.144044</td>\n",
       "      <td>-0.977278</td>\n",
       "      <td>0.443863</td>\n",
       "      <td>2.240893</td>\n",
       "      <td>-0.151357</td>\n",
       "      <td>-0.103219</td>\n",
       "    </tr>\n",
       "    <tr>\n",
       "      <th>3</th>\n",
       "      <td>-1.389653</td>\n",
       "      <td>0.443729</td>\n",
       "      <td>1.417079</td>\n",
       "      <td>-0.078631</td>\n",
       "      <td>-0.494727</td>\n",
       "      <td>-1.247777</td>\n",
       "      <td>-0.245858</td>\n",
       "      <td>-1.672523</td>\n",
       "      <td>-0.177184</td>\n",
       "      <td>1.206265</td>\n",
       "      <td>-0.367859</td>\n",
       "      <td>-0.672310</td>\n",
       "      <td>-0.220107</td>\n",
       "      <td>-0.207132</td>\n",
       "      <td>-0.437457</td>\n",
       "      <td>0.979513</td>\n",
       "      <td>-0.076973</td>\n",
       "      <td>-0.900317</td>\n",
       "      <td>-2.924153</td>\n",
       "      <td>0.215002</td>\n",
       "      <td>-2.501424</td>\n",
       "      <td>-0.216854</td>\n",
       "      <td>-0.603821</td>\n",
       "      <td>-1.037853</td>\n",
       "      <td>0.137375</td>\n",
       "      <td>1.674010</td>\n",
       "      <td>0.726356</td>\n",
       "      <td>-1.091534</td>\n",
       "      <td>1.682530</td>\n",
       "      <td>-0.147113</td>\n",
       "    </tr>\n",
       "    <tr>\n",
       "      <th>4</th>\n",
       "      <td>-0.323417</td>\n",
       "      <td>0.494130</td>\n",
       "      <td>-0.348048</td>\n",
       "      <td>1.228573</td>\n",
       "      <td>1.283534</td>\n",
       "      <td>-0.451845</td>\n",
       "      <td>0.179905</td>\n",
       "      <td>-0.215307</td>\n",
       "      <td>-0.695814</td>\n",
       "      <td>-0.283548</td>\n",
       "      <td>-1.485289</td>\n",
       "      <td>1.064252</td>\n",
       "      <td>0.171403</td>\n",
       "      <td>0.495161</td>\n",
       "      <td>1.133165</td>\n",
       "      <td>-0.249483</td>\n",
       "      <td>-0.842771</td>\n",
       "      <td>0.625803</td>\n",
       "      <td>-1.998865</td>\n",
       "      <td>-1.565542</td>\n",
       "      <td>-0.149800</td>\n",
       "      <td>-0.446577</td>\n",
       "      <td>-1.716757</td>\n",
       "      <td>0.681017</td>\n",
       "      <td>1.169750</td>\n",
       "      <td>0.544585</td>\n",
       "      <td>0.207748</td>\n",
       "      <td>-1.092027</td>\n",
       "      <td>-0.513664</td>\n",
       "      <td>1.566981</td>\n",
       "    </tr>\n",
       "  </tbody>\n",
       "</table>\n",
       "</div>"
      ],
      "text/plain": [
       "         0         1         2         3         4         5         6   \\\n",
       "0 -1.264248 -0.244264 -0.278784 -0.767433 -0.671935  1.078734  0.112192   \n",
       "1  0.938585 -0.374126  0.152177 -1.019251 -1.058572  0.144106  1.239941   \n",
       "2  0.313068  0.400157  1.764052 -0.854096  0.864436  1.532779 -0.205158   \n",
       "3 -1.389653  0.443729  1.417079 -0.078631 -0.494727 -1.247777 -0.245858   \n",
       "4 -0.323417  0.494130 -0.348048  1.228573  1.283534 -0.451845  0.179905   \n",
       "\n",
       "         7         8         9         10        11        12        13  \\\n",
       "0 -0.826115 -1.228228  1.058188  1.024760  2.612479 -0.184346 -0.320240   \n",
       "1 -0.509006  0.233458  1.925806  1.004419 -0.547356 -0.172459 -0.359117   \n",
       "2 -0.742165  1.469359  0.333674  0.410599 -1.454366  1.454274  0.653619   \n",
       "3 -1.672523 -0.177184  1.206265 -0.367859 -0.672310 -0.220107 -0.207132   \n",
       "4 -0.215307 -0.695814 -0.283548 -1.485289  1.064252  0.171403  0.495161   \n",
       "\n",
       "         14        15        16        17        18        19        20  \\\n",
       "0  0.424841 -2.103710  1.379503 -1.327718 -0.401036  0.710128 -0.075117   \n",
       "1  0.410602  0.512562 -0.013451  0.792041 -0.635430  0.115665  0.633534   \n",
       "2  1.867558 -2.552990  0.978738 -0.187184  0.950088  2.269755  0.761038   \n",
       "3 -0.437457  0.979513 -0.076973 -0.900317 -2.924153  0.215002 -2.501424   \n",
       "4  1.133165 -0.249483 -0.842771  0.625803 -1.998865 -1.565542 -0.149800   \n",
       "\n",
       "         21        22        23        24        25        26        27  \\\n",
       "0 -0.141831  1.048305  0.570970 -1.631035 -0.131695  0.858342  0.634410   \n",
       "1 -0.550799 -0.608815  1.951761 -0.726366  0.480970 -0.226122  0.815472   \n",
       "2  0.045759  0.121675  1.494079  0.144044 -0.977278  0.443863  2.240893   \n",
       "3 -0.216854 -0.603821 -1.037853  0.137375  1.674010  0.726356 -1.091534   \n",
       "4 -0.446577 -1.716757  0.681017  1.169750  0.544585  0.207748 -1.092027   \n",
       "\n",
       "         28        29  \n",
       "0  0.995936  0.405763  \n",
       "1  0.852830  0.669562  \n",
       "2 -0.151357 -0.103219  \n",
       "3  1.682530 -0.147113  \n",
       "4 -0.513664  1.566981  "
      ]
     },
     "execution_count": 3,
     "metadata": {},
     "output_type": "execute_result"
    }
   ],
   "source": [
    "df = pd.DataFrame(X)\n",
    "df.head()"
   ]
  },
  {
   "cell_type": "code",
   "execution_count": 4,
   "metadata": {},
   "outputs": [
    {
     "data": {
      "text/plain": [
       "count    30.000000\n",
       "mean     -0.004370\n",
       "std       0.034647\n",
       "min      -0.055655\n",
       "25%      -0.029974\n",
       "50%      -0.004965\n",
       "75%       0.012623\n",
       "max       0.074658\n",
       "dtype: float64"
      ]
     },
     "execution_count": 4,
     "metadata": {},
     "output_type": "execute_result"
    }
   ],
   "source": [
    "df.mean().describe()"
   ]
  },
  {
   "cell_type": "code",
   "execution_count": 5,
   "metadata": {},
   "outputs": [
    {
     "data": {
      "text/plain": [
       "array([-254.39414185,  290.4027336 ,  765.69313083])"
      ]
     },
     "execution_count": 5,
     "metadata": {},
     "output_type": "execute_result"
    }
   ],
   "source": [
    "y[:3]"
   ]
  },
  {
   "cell_type": "code",
   "execution_count": 6,
   "metadata": {},
   "outputs": [
    {
     "data": {
      "text/plain": [
       "array([94.34866054, 86.47850207, 79.94907627, 46.49917981, 95.9850028 ,\n",
       "       56.36727307, 25.69357988, 64.95937541, 72.80095115, 73.35527748,\n",
       "        9.02187519, 17.24602994, 99.20688235, 25.58312342, 43.21101348,\n",
       "       64.35689422, 62.10721952, 90.73674042, 26.15068806,  5.49210859,\n",
       "       41.52606921, 53.45292154, 42.88284994, 14.00781566, 40.58265554,\n",
       "       94.3032678 , 84.70484564, 95.1113458 , 23.39489465, 51.39913928])"
      ]
     },
     "execution_count": 6,
     "metadata": {},
     "output_type": "execute_result"
    }
   ],
   "source": [
    "coef"
   ]
  },
  {
   "cell_type": "code",
   "execution_count": 7,
   "metadata": {},
   "outputs": [],
   "source": [
    "mask = coef != 0"
   ]
  },
  {
   "cell_type": "code",
   "execution_count": 8,
   "metadata": {},
   "outputs": [
    {
     "data": {
      "text/plain": [
       "array([-254.39414185,  290.4027336 ,  765.69313083])"
      ]
     },
     "metadata": {},
     "output_type": "display_data"
    },
    {
     "data": {
      "text/plain": [
       "array([-254.39414185,  290.4027336 ,  765.69313083])"
      ]
     },
     "metadata": {},
     "output_type": "display_data"
    }
   ],
   "source": [
    "display(y[:3], np.matmul(X[:, mask], coef[mask])[:3])"
   ]
  },
  {
   "cell_type": "code",
   "execution_count": 9,
   "metadata": {},
   "outputs": [
    {
     "data": {
      "text/plain": [
       "True"
      ]
     },
     "execution_count": 9,
     "metadata": {},
     "output_type": "execute_result"
    }
   ],
   "source": [
    "np.isclose(np.matmul(X[:, mask], coef[mask]), y, rtol=.1).all()"
   ]
  },
  {
   "cell_type": "code",
   "execution_count": 10,
   "metadata": {},
   "outputs": [
    {
     "data": {
      "text/plain": [
       "(800, 30)"
      ]
     },
     "metadata": {},
     "output_type": "display_data"
    },
    {
     "data": {
      "text/plain": [
       "(200, 30)"
      ]
     },
     "metadata": {},
     "output_type": "display_data"
    },
    {
     "data": {
      "text/plain": [
       "(800,)"
      ]
     },
     "metadata": {},
     "output_type": "display_data"
    },
    {
     "data": {
      "text/plain": [
       "(200,)"
      ]
     },
     "metadata": {},
     "output_type": "display_data"
    }
   ],
   "source": [
    "X_train, X_test, y_train, y_test = train_test_split(X, y, test_size=0.20, random_state=0)\n",
    "display(X_train.shape, X_test.shape, y_train.shape, y_test.shape)"
   ]
  },
  {
   "cell_type": "code",
   "execution_count": 11,
   "metadata": {},
   "outputs": [],
   "source": [
    "pca = PCA(svd_solver=\"full\")\n",
    "pca_fit = pca.fit(X_train)"
   ]
  },
  {
   "cell_type": "code",
   "execution_count": 12,
   "metadata": {},
   "outputs": [],
   "source": [
    "n_components = (pca_fit.explained_variance_ratio_.cumsum() < 0.8).sum()"
   ]
  },
  {
   "cell_type": "code",
   "execution_count": 13,
   "metadata": {},
   "outputs": [
    {
     "data": {
      "text/plain": [
       "(800, 22)"
      ]
     },
     "metadata": {},
     "output_type": "display_data"
    },
    {
     "data": {
      "text/plain": [
       "(200, 22)"
      ]
     },
     "metadata": {},
     "output_type": "display_data"
    }
   ],
   "source": [
    "pca = PCA(n_components=n_components, svd_solver=\"full\")\n",
    "X_train_pca = pca.fit_transform(X_train)\n",
    "X_test_pca = pca.transform(X_test)\n",
    "\n",
    "display(X_train_pca.shape, X_test_pca.shape)"
   ]
  },
  {
   "cell_type": "code",
   "execution_count": 61,
   "metadata": {},
   "outputs": [
    {
     "name": "stdout",
     "output_type": "stream",
     "text": [
      "Fitting 5 folds for each of 36 candidates, totalling 180 fits\n"
     ]
    }
   ],
   "source": [
    "# Set up possible values of parameters to optimize over\n",
    "p_grid = {\"n_estimators\": [20, 100, 200],\n",
    "          \"max_depth\": [2, 4, 6],\n",
    "          \"learning_rate\": [0.001, 0.01, 0.1, 0.5]}\n",
    "\n",
    "gbr = GradientBoostingRegressor()\n",
    "\n",
    "inner_cv = KFold(n_splits=5, shuffle=True, random_state=0)\n",
    "\n",
    "# Non_nested parameter search and scoring\n",
    "gs = GridSearchCV(estimator=gbr, param_grid=p_grid,\n",
    "                   cv=inner_cv, scoring=\"neg_mean_squared_error\", \n",
    "                  n_jobs=-2, return_train_score=True, \n",
    "                  verbose=1)\n",
    "gs.fit(X_train, y_train)\n",
    "\n",
    "# Save results of grid search\n",
    "gs_res = pd.DataFrame(gs.cv_results_)"
   ]
  },
  {
   "cell_type": "code",
   "execution_count": 62,
   "metadata": {},
   "outputs": [
    {
     "data": {
      "text/html": [
       "<div>\n",
       "<style scoped>\n",
       "    .dataframe tbody tr th:only-of-type {\n",
       "        vertical-align: middle;\n",
       "    }\n",
       "\n",
       "    .dataframe tbody tr th {\n",
       "        vertical-align: top;\n",
       "    }\n",
       "\n",
       "    .dataframe thead th {\n",
       "        text-align: right;\n",
       "    }\n",
       "</style>\n",
       "<table border=\"1\" class=\"dataframe\">\n",
       "  <thead>\n",
       "    <tr style=\"text-align: right;\">\n",
       "      <th></th>\n",
       "      <th>mean_fit_time</th>\n",
       "      <th>std_fit_time</th>\n",
       "      <th>mean_score_time</th>\n",
       "      <th>std_score_time</th>\n",
       "      <th>param_learning_rate</th>\n",
       "      <th>param_max_depth</th>\n",
       "      <th>param_n_estimators</th>\n",
       "      <th>params</th>\n",
       "      <th>split0_test_score</th>\n",
       "      <th>split1_test_score</th>\n",
       "      <th>split2_test_score</th>\n",
       "      <th>split3_test_score</th>\n",
       "      <th>split4_test_score</th>\n",
       "      <th>mean_test_score</th>\n",
       "      <th>std_test_score</th>\n",
       "      <th>rank_test_score</th>\n",
       "      <th>split0_train_score</th>\n",
       "      <th>split1_train_score</th>\n",
       "      <th>split2_train_score</th>\n",
       "      <th>split3_train_score</th>\n",
       "      <th>split4_train_score</th>\n",
       "      <th>mean_train_score</th>\n",
       "      <th>std_train_score</th>\n",
       "    </tr>\n",
       "  </thead>\n",
       "  <tbody>\n",
       "    <tr>\n",
       "      <th>0</th>\n",
       "      <td>0.095665</td>\n",
       "      <td>0.003592</td>\n",
       "      <td>0.001597</td>\n",
       "      <td>0.001740</td>\n",
       "      <td>0.001</td>\n",
       "      <td>2</td>\n",
       "      <td>20</td>\n",
       "      <td>{'learning_rate': 0.001, 'max_depth': 2, 'n_es...</td>\n",
       "      <td>-136748.534495</td>\n",
       "      <td>-120804.449833</td>\n",
       "      <td>-97459.445646</td>\n",
       "      <td>-113972.774153</td>\n",
       "      <td>-137739.446317</td>\n",
       "      <td>-121344.930089</td>\n",
       "      <td>15041.332123</td>\n",
       "      <td>36</td>\n",
       "      <td>-116664.629304</td>\n",
       "      <td>-120794.774432</td>\n",
       "      <td>-126559.244164</td>\n",
       "      <td>-122412.133657</td>\n",
       "      <td>-116562.490795</td>\n",
       "      <td>-120598.654470</td>\n",
       "      <td>3758.270095</td>\n",
       "    </tr>\n",
       "    <tr>\n",
       "      <th>1</th>\n",
       "      <td>0.475140</td>\n",
       "      <td>0.015867</td>\n",
       "      <td>0.001196</td>\n",
       "      <td>0.000399</td>\n",
       "      <td>0.001</td>\n",
       "      <td>2</td>\n",
       "      <td>100</td>\n",
       "      <td>{'learning_rate': 0.001, 'max_depth': 2, 'n_es...</td>\n",
       "      <td>-134835.677328</td>\n",
       "      <td>-119349.989380</td>\n",
       "      <td>-96378.993351</td>\n",
       "      <td>-112257.557149</td>\n",
       "      <td>-136684.677389</td>\n",
       "      <td>-119901.378920</td>\n",
       "      <td>14944.878996</td>\n",
       "      <td>33</td>\n",
       "      <td>-113901.768767</td>\n",
       "      <td>-117831.530614</td>\n",
       "      <td>-123426.827093</td>\n",
       "      <td>-119373.336824</td>\n",
       "      <td>-113593.917703</td>\n",
       "      <td>-117625.476200</td>\n",
       "      <td>3657.119313</td>\n",
       "    </tr>\n",
       "    <tr>\n",
       "      <th>2</th>\n",
       "      <td>0.927157</td>\n",
       "      <td>0.016027</td>\n",
       "      <td>0.001199</td>\n",
       "      <td>0.000403</td>\n",
       "      <td>0.001</td>\n",
       "      <td>2</td>\n",
       "      <td>200</td>\n",
       "      <td>{'learning_rate': 0.001, 'max_depth': 2, 'n_es...</td>\n",
       "      <td>-132609.883931</td>\n",
       "      <td>-117372.690411</td>\n",
       "      <td>-94691.062343</td>\n",
       "      <td>-110358.823998</td>\n",
       "      <td>-135192.107537</td>\n",
       "      <td>-118044.913644</td>\n",
       "      <td>14907.010744</td>\n",
       "      <td>32</td>\n",
       "      <td>-110738.784473</td>\n",
       "      <td>-114353.185907</td>\n",
       "      <td>-119702.935197</td>\n",
       "      <td>-115867.747394</td>\n",
       "      <td>-110071.872111</td>\n",
       "      <td>-114146.905017</td>\n",
       "      <td>3524.045984</td>\n",
       "    </tr>\n",
       "    <tr>\n",
       "      <th>3</th>\n",
       "      <td>0.167152</td>\n",
       "      <td>0.004869</td>\n",
       "      <td>0.000200</td>\n",
       "      <td>0.000399</td>\n",
       "      <td>0.001</td>\n",
       "      <td>4</td>\n",
       "      <td>20</td>\n",
       "      <td>{'learning_rate': 0.001, 'max_depth': 4, 'n_es...</td>\n",
       "      <td>-136238.256385</td>\n",
       "      <td>-119920.847384</td>\n",
       "      <td>-97047.015550</td>\n",
       "      <td>-113523.550895</td>\n",
       "      <td>-137239.178427</td>\n",
       "      <td>-120793.769728</td>\n",
       "      <td>15010.063589</td>\n",
       "      <td>35</td>\n",
       "      <td>-115600.370541</td>\n",
       "      <td>-119605.373693</td>\n",
       "      <td>-125348.775699</td>\n",
       "      <td>-121190.781689</td>\n",
       "      <td>-115546.477231</td>\n",
       "      <td>-119458.355771</td>\n",
       "      <td>3685.289799</td>\n",
       "    </tr>\n",
       "    <tr>\n",
       "      <th>4</th>\n",
       "      <td>0.819609</td>\n",
       "      <td>0.017152</td>\n",
       "      <td>0.001199</td>\n",
       "      <td>0.000397</td>\n",
       "      <td>0.001</td>\n",
       "      <td>4</td>\n",
       "      <td>100</td>\n",
       "      <td>{'learning_rate': 0.001, 'max_depth': 4, 'n_es...</td>\n",
       "      <td>-132341.839782</td>\n",
       "      <td>-116503.602446</td>\n",
       "      <td>-94352.505513</td>\n",
       "      <td>-109928.309797</td>\n",
       "      <td>-134593.209763</td>\n",
       "      <td>-117543.893460</td>\n",
       "      <td>14876.681059</td>\n",
       "      <td>30</td>\n",
       "      <td>-108636.274504</td>\n",
       "      <td>-112338.124587</td>\n",
       "      <td>-117532.114690</td>\n",
       "      <td>-113712.250684</td>\n",
       "      <td>-108903.069007</td>\n",
       "      <td>-112224.366694</td>\n",
       "      <td>3295.583478</td>\n",
       "    </tr>\n",
       "  </tbody>\n",
       "</table>\n",
       "</div>"
      ],
      "text/plain": [
       "   mean_fit_time  std_fit_time  mean_score_time  std_score_time  \\\n",
       "0       0.095665      0.003592         0.001597        0.001740   \n",
       "1       0.475140      0.015867         0.001196        0.000399   \n",
       "2       0.927157      0.016027         0.001199        0.000403   \n",
       "3       0.167152      0.004869         0.000200        0.000399   \n",
       "4       0.819609      0.017152         0.001199        0.000397   \n",
       "\n",
       "  param_learning_rate param_max_depth param_n_estimators  \\\n",
       "0               0.001               2                 20   \n",
       "1               0.001               2                100   \n",
       "2               0.001               2                200   \n",
       "3               0.001               4                 20   \n",
       "4               0.001               4                100   \n",
       "\n",
       "                                              params  split0_test_score  \\\n",
       "0  {'learning_rate': 0.001, 'max_depth': 2, 'n_es...     -136748.534495   \n",
       "1  {'learning_rate': 0.001, 'max_depth': 2, 'n_es...     -134835.677328   \n",
       "2  {'learning_rate': 0.001, 'max_depth': 2, 'n_es...     -132609.883931   \n",
       "3  {'learning_rate': 0.001, 'max_depth': 4, 'n_es...     -136238.256385   \n",
       "4  {'learning_rate': 0.001, 'max_depth': 4, 'n_es...     -132341.839782   \n",
       "\n",
       "   split1_test_score  split2_test_score  split3_test_score  split4_test_score  \\\n",
       "0     -120804.449833      -97459.445646     -113972.774153     -137739.446317   \n",
       "1     -119349.989380      -96378.993351     -112257.557149     -136684.677389   \n",
       "2     -117372.690411      -94691.062343     -110358.823998     -135192.107537   \n",
       "3     -119920.847384      -97047.015550     -113523.550895     -137239.178427   \n",
       "4     -116503.602446      -94352.505513     -109928.309797     -134593.209763   \n",
       "\n",
       "   mean_test_score  std_test_score  rank_test_score  split0_train_score  \\\n",
       "0   -121344.930089    15041.332123               36      -116664.629304   \n",
       "1   -119901.378920    14944.878996               33      -113901.768767   \n",
       "2   -118044.913644    14907.010744               32      -110738.784473   \n",
       "3   -120793.769728    15010.063589               35      -115600.370541   \n",
       "4   -117543.893460    14876.681059               30      -108636.274504   \n",
       "\n",
       "   split1_train_score  split2_train_score  split3_train_score  \\\n",
       "0      -120794.774432      -126559.244164      -122412.133657   \n",
       "1      -117831.530614      -123426.827093      -119373.336824   \n",
       "2      -114353.185907      -119702.935197      -115867.747394   \n",
       "3      -119605.373693      -125348.775699      -121190.781689   \n",
       "4      -112338.124587      -117532.114690      -113712.250684   \n",
       "\n",
       "   split4_train_score  mean_train_score  std_train_score  \n",
       "0      -116562.490795    -120598.654470      3758.270095  \n",
       "1      -113593.917703    -117625.476200      3657.119313  \n",
       "2      -110071.872111    -114146.905017      3524.045984  \n",
       "3      -115546.477231    -119458.355771      3685.289799  \n",
       "4      -108903.069007    -112224.366694      3295.583478  "
      ]
     },
     "execution_count": 62,
     "metadata": {},
     "output_type": "execute_result"
    }
   ],
   "source": [
    "gs_res.head()"
   ]
  },
  {
   "cell_type": "code",
   "execution_count": 63,
   "metadata": {},
   "outputs": [
    {
     "data": {
      "text/plain": [
       "mean_fit_time                                                   1.180245\n",
       "std_fit_time                                                    0.004397\n",
       "mean_score_time                                                 0.001196\n",
       "std_score_time                                                  0.000398\n",
       "param_learning_rate                                                  0.5\n",
       "param_max_depth                                                        2\n",
       "param_n_estimators                                                   200\n",
       "params                 {'learning_rate': 0.5, 'max_depth': 2, 'n_esti...\n",
       "split0_test_score                                          -26185.100038\n",
       "split1_test_score                                           -26455.28671\n",
       "split2_test_score                                          -28291.876035\n",
       "split3_test_score                                          -20899.959445\n",
       "split4_test_score                                          -33993.567612\n",
       "mean_test_score                                            -27165.157968\n",
       "std_test_score                                               4209.841212\n",
       "rank_test_score                                                        1\n",
       "split0_train_score                                           -261.073273\n",
       "split1_train_score                                           -238.680485\n",
       "split2_train_score                                           -363.515318\n",
       "split3_train_score                                            -311.97661\n",
       "split4_train_score                                           -272.434014\n",
       "mean_train_score                                              -289.53594\n",
       "std_train_score                                                43.966825\n",
       "Name: 29, dtype: object"
      ]
     },
     "execution_count": 63,
     "metadata": {},
     "output_type": "execute_result"
    }
   ],
   "source": [
    "gs_res.iloc[gs_res.mean_test_score.idxmax()]"
   ]
  },
  {
   "cell_type": "code",
   "execution_count": 59,
   "metadata": {},
   "outputs": [
    {
     "data": {
      "text/plain": [
       "{'learning_rate': 0.1, 'max_depth': 2, 'n_estimators': 200}"
      ]
     },
     "metadata": {},
     "output_type": "display_data"
    },
    {
     "data": {
      "text/plain": [
       "-35286.884219059044"
      ]
     },
     "metadata": {},
     "output_type": "display_data"
    },
    {
     "data": {
      "text/plain": [
       "make_scorer(mean_squared_error, greater_is_better=False)"
      ]
     },
     "metadata": {},
     "output_type": "display_data"
    }
   ],
   "source": [
    "display(gs.best_params_, gs.best_score_, gs.scorer_)"
   ]
  },
  {
   "cell_type": "code",
   "execution_count": 60,
   "metadata": {},
   "outputs": [
    {
     "data": {
      "text/plain": [
       "47490.07670486927"
      ]
     },
     "execution_count": 60,
     "metadata": {},
     "output_type": "execute_result"
    }
   ],
   "source": [
    "mean_squared_error(y_test, gs.predict(X_test_pca))"
   ]
  },
  {
   "cell_type": "code",
   "execution_count": 19,
   "metadata": {},
   "outputs": [
    {
     "data": {
      "text/plain": [
       "122236.0734452304"
      ]
     },
     "execution_count": 19,
     "metadata": {},
     "output_type": "execute_result"
    }
   ],
   "source": [
    "mean_squared_error(y_test, np.ones_like(y_test)*y.mean())"
   ]
  },
  {
   "cell_type": "code",
   "execution_count": 50,
   "metadata": {},
   "outputs": [
    {
     "name": "stdout",
     "output_type": "stream",
     "text": [
      "Fitting 10 folds for each of 28 candidates, totalling 280 fits\n"
     ]
    },
    {
     "name": "stderr",
     "output_type": "stream",
     "text": [
      "C:\\Users\\henri\\miniconda3\\envs\\envDS\\lib\\site-packages\\sklearn\\model_selection\\_search.py:880: UserWarning: With alpha=0, this algorithm does not converge well. You are advised to use the LinearRegression estimator\n",
      "  self.best_estimator_.fit(X, y, **fit_params)\n",
      "C:\\Users\\henri\\miniconda3\\envs\\envDS\\lib\\site-packages\\sklearn\\linear_model\\_coordinate_descent.py:530: UserWarning: Coordinate descent with no regularization may lead to unexpected results and is discouraged.\n",
      "  model = cd_fast.enet_coordinate_descent(\n"
     ]
    }
   ],
   "source": [
    "# Set up possible values of parameters to optimize over\n",
    "p_grid = {\"alpha\": [1e-4, 1e-3, 1e-2, 1e-1, 0.0, 1.0, 10.0],\n",
    "          \"l1_ratio\": [0, .1, .5, 1]}\n",
    "\n",
    "enr = ElasticNet(max_iter=1e4)\n",
    "\n",
    "inner_cv = KFold(n_splits=10, shuffle=True, random_state=0)\n",
    "\n",
    "# Non_nested parameter search and scoring\n",
    "gs = GridSearchCV(estimator=enr, param_grid=p_grid,\n",
    "                   cv=inner_cv, scoring=\"neg_mean_squared_error\", \n",
    "                  n_jobs=-2, return_train_score=True, \n",
    "                  verbose=1)\n",
    "gs.fit(X_train, y_train)\n",
    "\n",
    "# Save results of grid search\n",
    "gs_res = pd.DataFrame(gs.cv_results_)"
   ]
  },
  {
   "cell_type": "code",
   "execution_count": 51,
   "metadata": {},
   "outputs": [
    {
     "data": {
      "text/html": [
       "<div>\n",
       "<style scoped>\n",
       "    .dataframe tbody tr th:only-of-type {\n",
       "        vertical-align: middle;\n",
       "    }\n",
       "\n",
       "    .dataframe tbody tr th {\n",
       "        vertical-align: top;\n",
       "    }\n",
       "\n",
       "    .dataframe thead th {\n",
       "        text-align: right;\n",
       "    }\n",
       "</style>\n",
       "<table border=\"1\" class=\"dataframe\">\n",
       "  <thead>\n",
       "    <tr style=\"text-align: right;\">\n",
       "      <th></th>\n",
       "      <th>mean_fit_time</th>\n",
       "      <th>std_fit_time</th>\n",
       "      <th>mean_score_time</th>\n",
       "      <th>std_score_time</th>\n",
       "      <th>param_alpha</th>\n",
       "      <th>param_l1_ratio</th>\n",
       "      <th>params</th>\n",
       "      <th>split0_test_score</th>\n",
       "      <th>split1_test_score</th>\n",
       "      <th>split2_test_score</th>\n",
       "      <th>split3_test_score</th>\n",
       "      <th>split4_test_score</th>\n",
       "      <th>split5_test_score</th>\n",
       "      <th>split6_test_score</th>\n",
       "      <th>split7_test_score</th>\n",
       "      <th>split8_test_score</th>\n",
       "      <th>split9_test_score</th>\n",
       "      <th>mean_test_score</th>\n",
       "      <th>std_test_score</th>\n",
       "      <th>rank_test_score</th>\n",
       "      <th>split0_train_score</th>\n",
       "      <th>split1_train_score</th>\n",
       "      <th>split2_train_score</th>\n",
       "      <th>split3_train_score</th>\n",
       "      <th>split4_train_score</th>\n",
       "      <th>split5_train_score</th>\n",
       "      <th>split6_train_score</th>\n",
       "      <th>split7_train_score</th>\n",
       "      <th>split8_train_score</th>\n",
       "      <th>split9_train_score</th>\n",
       "      <th>mean_train_score</th>\n",
       "      <th>std_train_score</th>\n",
       "    </tr>\n",
       "  </thead>\n",
       "  <tbody>\n",
       "    <tr>\n",
       "      <th>0</th>\n",
       "      <td>0.011572</td>\n",
       "      <td>0.006545</td>\n",
       "      <td>0.000697</td>\n",
       "      <td>0.000456</td>\n",
       "      <td>0.0001</td>\n",
       "      <td>0</td>\n",
       "      <td>{'alpha': 0.0001, 'l1_ratio': 0}</td>\n",
       "      <td>-1.314929e-03</td>\n",
       "      <td>-0.002103</td>\n",
       "      <td>-1.192935e-03</td>\n",
       "      <td>-0.001367</td>\n",
       "      <td>-0.000941</td>\n",
       "      <td>-0.001094</td>\n",
       "      <td>-0.001378</td>\n",
       "      <td>-0.001370</td>\n",
       "      <td>-1.613955e-03</td>\n",
       "      <td>-0.001482</td>\n",
       "      <td>-0.001386</td>\n",
       "      <td>0.000300</td>\n",
       "      <td>9</td>\n",
       "      <td>-1.234613e-03</td>\n",
       "      <td>-0.001383</td>\n",
       "      <td>-1.225374e-03</td>\n",
       "      <td>-0.001259</td>\n",
       "      <td>-0.001203</td>\n",
       "      <td>-1.220051e-03</td>\n",
       "      <td>-0.001294</td>\n",
       "      <td>-0.001253</td>\n",
       "      <td>-1.253381e-03</td>\n",
       "      <td>-0.001289</td>\n",
       "      <td>-0.001261</td>\n",
       "      <td>0.000049</td>\n",
       "    </tr>\n",
       "    <tr>\n",
       "      <th>1</th>\n",
       "      <td>0.002094</td>\n",
       "      <td>0.000537</td>\n",
       "      <td>0.000798</td>\n",
       "      <td>0.000399</td>\n",
       "      <td>0.0001</td>\n",
       "      <td>0.1</td>\n",
       "      <td>{'alpha': 0.0001, 'l1_ratio': 0.1}</td>\n",
       "      <td>-1.069837e-03</td>\n",
       "      <td>-0.001723</td>\n",
       "      <td>-9.696344e-04</td>\n",
       "      <td>-0.001112</td>\n",
       "      <td>-0.000764</td>\n",
       "      <td>-0.000890</td>\n",
       "      <td>-0.001126</td>\n",
       "      <td>-0.001116</td>\n",
       "      <td>-1.312589e-03</td>\n",
       "      <td>-0.001207</td>\n",
       "      <td>-0.001129</td>\n",
       "      <td>0.000248</td>\n",
       "      <td>8</td>\n",
       "      <td>-1.003919e-03</td>\n",
       "      <td>-0.001133</td>\n",
       "      <td>-9.963895e-04</td>\n",
       "      <td>-0.001026</td>\n",
       "      <td>-0.000978</td>\n",
       "      <td>-9.923864e-04</td>\n",
       "      <td>-0.001058</td>\n",
       "      <td>-0.001020</td>\n",
       "      <td>-1.018923e-03</td>\n",
       "      <td>-0.001053</td>\n",
       "      <td>-0.001028</td>\n",
       "      <td>0.000043</td>\n",
       "    </tr>\n",
       "    <tr>\n",
       "      <th>2</th>\n",
       "      <td>0.001795</td>\n",
       "      <td>0.000746</td>\n",
       "      <td>0.000500</td>\n",
       "      <td>0.000500</td>\n",
       "      <td>0.0001</td>\n",
       "      <td>0.5</td>\n",
       "      <td>{'alpha': 0.0001, 'l1_ratio': 0.5}</td>\n",
       "      <td>-3.420440e-04</td>\n",
       "      <td>-0.000583</td>\n",
       "      <td>-3.076801e-04</td>\n",
       "      <td>-0.000356</td>\n",
       "      <td>-0.000241</td>\n",
       "      <td>-0.000285</td>\n",
       "      <td>-0.000374</td>\n",
       "      <td>-0.000361</td>\n",
       "      <td>-4.183281e-04</td>\n",
       "      <td>-0.000392</td>\n",
       "      <td>-0.000366</td>\n",
       "      <td>0.000088</td>\n",
       "      <td>7</td>\n",
       "      <td>-3.195438e-04</td>\n",
       "      <td>-0.000385</td>\n",
       "      <td>-3.171295e-04</td>\n",
       "      <td>-0.000334</td>\n",
       "      <td>-0.000312</td>\n",
       "      <td>-3.166974e-04</td>\n",
       "      <td>-0.000352</td>\n",
       "      <td>-0.000328</td>\n",
       "      <td>-3.236732e-04</td>\n",
       "      <td>-0.000347</td>\n",
       "      <td>-0.000334</td>\n",
       "      <td>0.000021</td>\n",
       "    </tr>\n",
       "    <tr>\n",
       "      <th>3</th>\n",
       "      <td>0.001296</td>\n",
       "      <td>0.000459</td>\n",
       "      <td>0.000698</td>\n",
       "      <td>0.000457</td>\n",
       "      <td>0.0001</td>\n",
       "      <td>1</td>\n",
       "      <td>{'alpha': 0.0001, 'l1_ratio': 1}</td>\n",
       "      <td>-7.325253e-07</td>\n",
       "      <td>-0.000014</td>\n",
       "      <td>-6.533537e-07</td>\n",
       "      <td>-0.000008</td>\n",
       "      <td>-0.000003</td>\n",
       "      <td>-0.000001</td>\n",
       "      <td>-0.000007</td>\n",
       "      <td>-0.000002</td>\n",
       "      <td>-8.787477e-07</td>\n",
       "      <td>-0.000007</td>\n",
       "      <td>-0.000004</td>\n",
       "      <td>0.000004</td>\n",
       "      <td>5</td>\n",
       "      <td>-5.866001e-07</td>\n",
       "      <td>-0.000013</td>\n",
       "      <td>-6.947711e-07</td>\n",
       "      <td>-0.000008</td>\n",
       "      <td>-0.000002</td>\n",
       "      <td>-8.825553e-07</td>\n",
       "      <td>-0.000006</td>\n",
       "      <td>-0.000001</td>\n",
       "      <td>-5.484332e-07</td>\n",
       "      <td>-0.000008</td>\n",
       "      <td>-0.000004</td>\n",
       "      <td>0.000004</td>\n",
       "    </tr>\n",
       "    <tr>\n",
       "      <th>4</th>\n",
       "      <td>0.297304</td>\n",
       "      <td>0.023467</td>\n",
       "      <td>0.000500</td>\n",
       "      <td>0.000500</td>\n",
       "      <td>0.001</td>\n",
       "      <td>0</td>\n",
       "      <td>{'alpha': 0.001, 'l1_ratio': 0}</td>\n",
       "      <td>-1.296119e-01</td>\n",
       "      <td>-0.194954</td>\n",
       "      <td>-1.185317e-01</td>\n",
       "      <td>-0.135898</td>\n",
       "      <td>-0.094787</td>\n",
       "      <td>-0.107699</td>\n",
       "      <td>-0.130469</td>\n",
       "      <td>-0.133043</td>\n",
       "      <td>-1.599820e-01</td>\n",
       "      <td>-0.145122</td>\n",
       "      <td>-0.135010</td>\n",
       "      <td>0.026474</td>\n",
       "      <td>13</td>\n",
       "      <td>-1.222856e-01</td>\n",
       "      <td>-0.128121</td>\n",
       "      <td>-1.213923e-01</td>\n",
       "      <td>-0.122721</td>\n",
       "      <td>-0.119117</td>\n",
       "      <td>-1.205157e-01</td>\n",
       "      <td>-0.122538</td>\n",
       "      <td>-0.122650</td>\n",
       "      <td>-1.244557e-01</td>\n",
       "      <td>-0.123571</td>\n",
       "      <td>-0.122737</td>\n",
       "      <td>0.002296</td>\n",
       "    </tr>\n",
       "  </tbody>\n",
       "</table>\n",
       "</div>"
      ],
      "text/plain": [
       "   mean_fit_time  std_fit_time  mean_score_time  std_score_time param_alpha  \\\n",
       "0       0.011572      0.006545         0.000697        0.000456      0.0001   \n",
       "1       0.002094      0.000537         0.000798        0.000399      0.0001   \n",
       "2       0.001795      0.000746         0.000500        0.000500      0.0001   \n",
       "3       0.001296      0.000459         0.000698        0.000457      0.0001   \n",
       "4       0.297304      0.023467         0.000500        0.000500       0.001   \n",
       "\n",
       "  param_l1_ratio                              params  split0_test_score  \\\n",
       "0              0    {'alpha': 0.0001, 'l1_ratio': 0}      -1.314929e-03   \n",
       "1            0.1  {'alpha': 0.0001, 'l1_ratio': 0.1}      -1.069837e-03   \n",
       "2            0.5  {'alpha': 0.0001, 'l1_ratio': 0.5}      -3.420440e-04   \n",
       "3              1    {'alpha': 0.0001, 'l1_ratio': 1}      -7.325253e-07   \n",
       "4              0     {'alpha': 0.001, 'l1_ratio': 0}      -1.296119e-01   \n",
       "\n",
       "   split1_test_score  split2_test_score  split3_test_score  split4_test_score  \\\n",
       "0          -0.002103      -1.192935e-03          -0.001367          -0.000941   \n",
       "1          -0.001723      -9.696344e-04          -0.001112          -0.000764   \n",
       "2          -0.000583      -3.076801e-04          -0.000356          -0.000241   \n",
       "3          -0.000014      -6.533537e-07          -0.000008          -0.000003   \n",
       "4          -0.194954      -1.185317e-01          -0.135898          -0.094787   \n",
       "\n",
       "   split5_test_score  split6_test_score  split7_test_score  split8_test_score  \\\n",
       "0          -0.001094          -0.001378          -0.001370      -1.613955e-03   \n",
       "1          -0.000890          -0.001126          -0.001116      -1.312589e-03   \n",
       "2          -0.000285          -0.000374          -0.000361      -4.183281e-04   \n",
       "3          -0.000001          -0.000007          -0.000002      -8.787477e-07   \n",
       "4          -0.107699          -0.130469          -0.133043      -1.599820e-01   \n",
       "\n",
       "   split9_test_score  mean_test_score  std_test_score  rank_test_score  \\\n",
       "0          -0.001482        -0.001386        0.000300                9   \n",
       "1          -0.001207        -0.001129        0.000248                8   \n",
       "2          -0.000392        -0.000366        0.000088                7   \n",
       "3          -0.000007        -0.000004        0.000004                5   \n",
       "4          -0.145122        -0.135010        0.026474               13   \n",
       "\n",
       "   split0_train_score  split1_train_score  split2_train_score  \\\n",
       "0       -1.234613e-03           -0.001383       -1.225374e-03   \n",
       "1       -1.003919e-03           -0.001133       -9.963895e-04   \n",
       "2       -3.195438e-04           -0.000385       -3.171295e-04   \n",
       "3       -5.866001e-07           -0.000013       -6.947711e-07   \n",
       "4       -1.222856e-01           -0.128121       -1.213923e-01   \n",
       "\n",
       "   split3_train_score  split4_train_score  split5_train_score  \\\n",
       "0           -0.001259           -0.001203       -1.220051e-03   \n",
       "1           -0.001026           -0.000978       -9.923864e-04   \n",
       "2           -0.000334           -0.000312       -3.166974e-04   \n",
       "3           -0.000008           -0.000002       -8.825553e-07   \n",
       "4           -0.122721           -0.119117       -1.205157e-01   \n",
       "\n",
       "   split6_train_score  split7_train_score  split8_train_score  \\\n",
       "0           -0.001294           -0.001253       -1.253381e-03   \n",
       "1           -0.001058           -0.001020       -1.018923e-03   \n",
       "2           -0.000352           -0.000328       -3.236732e-04   \n",
       "3           -0.000006           -0.000001       -5.484332e-07   \n",
       "4           -0.122538           -0.122650       -1.244557e-01   \n",
       "\n",
       "   split9_train_score  mean_train_score  std_train_score  \n",
       "0           -0.001289         -0.001261         0.000049  \n",
       "1           -0.001053         -0.001028         0.000043  \n",
       "2           -0.000347         -0.000334         0.000021  \n",
       "3           -0.000008         -0.000004         0.000004  \n",
       "4           -0.123571         -0.122737         0.002296  "
      ]
     },
     "execution_count": 51,
     "metadata": {},
     "output_type": "execute_result"
    }
   ],
   "source": [
    "gs_res.head()"
   ]
  },
  {
   "cell_type": "code",
   "execution_count": 52,
   "metadata": {},
   "outputs": [
    {
     "data": {
      "text/plain": [
       "{'alpha': 0.0, 'l1_ratio': 0}"
      ]
     },
     "metadata": {},
     "output_type": "display_data"
    },
    {
     "data": {
      "text/plain": [
       "-3.6741561717018975e-06"
      ]
     },
     "metadata": {},
     "output_type": "display_data"
    },
    {
     "data": {
      "text/plain": [
       "make_scorer(mean_squared_error, greater_is_better=False)"
      ]
     },
     "metadata": {},
     "output_type": "display_data"
    }
   ],
   "source": [
    "display(gs.best_params_, gs.best_score_, gs.scorer_)"
   ]
  },
  {
   "cell_type": "code",
   "execution_count": 53,
   "metadata": {},
   "outputs": [
    {
     "data": {
      "text/plain": [
       "mean_fit_time                              0.002393\n",
       "std_fit_time                               0.002647\n",
       "mean_score_time                            0.000999\n",
       "std_score_time                             0.000004\n",
       "param_alpha                                     0.0\n",
       "param_l1_ratio                                    0\n",
       "params                {'alpha': 0.0, 'l1_ratio': 0}\n",
       "split0_test_score                              -0.0\n",
       "split1_test_score                         -0.000012\n",
       "split2_test_score                              -0.0\n",
       "split3_test_score                         -0.000008\n",
       "split4_test_score                         -0.000003\n",
       "split5_test_score                         -0.000001\n",
       "split6_test_score                         -0.000006\n",
       "split7_test_score                         -0.000001\n",
       "split8_test_score                              -0.0\n",
       "split9_test_score                         -0.000006\n",
       "mean_test_score                           -0.000004\n",
       "std_test_score                             0.000004\n",
       "rank_test_score                                   1\n",
       "split0_train_score                             -0.0\n",
       "split1_train_score                        -0.000011\n",
       "split2_train_score                             -0.0\n",
       "split3_train_score                        -0.000007\n",
       "split4_train_score                        -0.000002\n",
       "split5_train_score                             -0.0\n",
       "split6_train_score                        -0.000005\n",
       "split7_train_score                        -0.000001\n",
       "split8_train_score                             -0.0\n",
       "split9_train_score                        -0.000007\n",
       "mean_train_score                          -0.000003\n",
       "std_train_score                            0.000004\n",
       "Name: 16, dtype: object"
      ]
     },
     "execution_count": 53,
     "metadata": {},
     "output_type": "execute_result"
    }
   ],
   "source": [
    "gs_res.iloc[gs_res.mean_test_score.idxmax()]"
   ]
  },
  {
   "cell_type": "code",
   "execution_count": 55,
   "metadata": {},
   "outputs": [
    {
     "data": {
      "text/plain": [
       "8.537134574496583e-06"
      ]
     },
     "execution_count": 55,
     "metadata": {},
     "output_type": "execute_result"
    }
   ],
   "source": [
    "mean_squared_error(y_test, gs.predict(X_test))"
   ]
  },
  {
   "cell_type": "code",
   "execution_count": 25,
   "metadata": {},
   "outputs": [
    {
     "data": {
      "text/plain": [
       "122236.0734452304"
      ]
     },
     "execution_count": 25,
     "metadata": {},
     "output_type": "execute_result"
    }
   ],
   "source": [
    "mean_squared_error(y_test, np.ones_like(y_test)*y.mean())"
   ]
  },
  {
   "cell_type": "code",
   "execution_count": 34,
   "metadata": {},
   "outputs": [
    {
     "data": {
      "text/plain": [
       "array([ 387.,   -7.,  -40.,  -34.,  135., -365.,   41., -188.,   10.,\n",
       "        243.])"
      ]
     },
     "metadata": {},
     "output_type": "display_data"
    },
    {
     "data": {
      "text/plain": [
       "array([ 318.,   29., -306.,   -0.,  192., -230.,  158.,   21., -148.,\n",
       "         69.])"
      ]
     },
     "metadata": {},
     "output_type": "display_data"
    }
   ],
   "source": [
    "display(y_test[:10].round(0), gs.predict(X_test_pca)[:10].round(0))"
   ]
  },
  {
   "cell_type": "code",
   "execution_count": 26,
   "metadata": {},
   "outputs": [],
   "source": [
    "from sklearn.linear_model import LinearRegression"
   ]
  },
  {
   "cell_type": "code",
   "execution_count": 30,
   "metadata": {},
   "outputs": [
    {
     "data": {
      "text/plain": [
       "LinearRegression()"
      ]
     },
     "execution_count": 30,
     "metadata": {},
     "output_type": "execute_result"
    }
   ],
   "source": [
    "lr = LinearRegression()\n",
    "lr.fit(X_train, y_train)"
   ]
  },
  {
   "cell_type": "code",
   "execution_count": 31,
   "metadata": {},
   "outputs": [
    {
     "data": {
      "text/plain": [
       "2.0446959118966538e-25"
      ]
     },
     "execution_count": 31,
     "metadata": {},
     "output_type": "execute_result"
    }
   ],
   "source": [
    "mean_squared_error(y_test, lr.predict(X_test))"
   ]
  },
  {
   "cell_type": "code",
   "execution_count": 64,
   "metadata": {},
   "outputs": [
    {
     "data": {
      "text/plain": [
       "GradientBoostingRegressor(learning_rate=0.01, max_depth=2, n_estimators=1000)"
      ]
     },
     "execution_count": 64,
     "metadata": {},
     "output_type": "execute_result"
    }
   ],
   "source": [
    "gbr = GradientBoostingRegressor(learning_rate=.01, max_depth=2, n_estimators=1000)\n",
    "gbr.fit(X_train, y_train)"
   ]
  },
  {
   "cell_type": "code",
   "execution_count": 65,
   "metadata": {},
   "outputs": [
    {
     "data": {
      "text/plain": [
       "40466.926977231626"
      ]
     },
     "execution_count": 65,
     "metadata": {},
     "output_type": "execute_result"
    }
   ],
   "source": [
    "mean_squared_error(y_test, gbr.predict(X_test))"
   ]
  },
  {
   "cell_type": "code",
   "execution_count": null,
   "metadata": {},
   "outputs": [],
   "source": []
  }
 ],
 "metadata": {
  "interpreter": {
   "hash": "7e026deb392796e4a1ecaf508263c1fbf31eec963e9dedd2d90c34d03d9837ed"
  },
  "kernelspec": {
   "display_name": "Python 3.9.7 64-bit ('envDS': conda)",
   "language": "python",
   "name": "python3"
  },
  "language_info": {
   "codemirror_mode": {
    "name": "ipython",
    "version": 3
   },
   "file_extension": ".py",
   "mimetype": "text/x-python",
   "name": "python",
   "nbconvert_exporter": "python",
   "pygments_lexer": "ipython3",
   "version": "3.9.7"
  },
  "orig_nbformat": 4
 },
 "nbformat": 4,
 "nbformat_minor": 2
}
